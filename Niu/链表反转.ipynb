{
 "cells": [
  {
   "cell_type": "markdown",
   "source": [
    "如当输入链表{1,2,3}时，\n",
    "经反转后，原链表变为{3,2,1}，所以对应的输出为{3,2,1}。"
   ],
   "metadata": {
    "collapsed": false
   },
   "id": "1bc6f0eb560ecfbc"
  },
  {
   "cell_type": "code",
   "outputs": [],
   "source": [
    "# 定义链表类\n",
    "class ListNode:\n",
    "    def __init__(self, x):\n",
    "        self.val = x\n",
    "        self.next = None"
   ],
   "metadata": {
    "collapsed": false,
    "ExecuteTime": {
     "end_time": "2024-06-01T15:50:16.356772Z",
     "start_time": "2024-06-01T15:50:16.347581Z"
    }
   },
   "id": "4bd778c83f66ee82",
   "execution_count": 1
  },
  {
   "cell_type": "code",
   "outputs": [],
   "source": [
    "class Solution:\n",
    "    def ReverseList(self, head: ListNode) -> ListNode:\n",
    "        pre = None\n",
    "        current = head\n",
    "        while current:\n",
    "            temp = current.next #保存当前节点的后一节点\n",
    "            current.next = pre #将指针反向\n",
    "            pre = current #迭代当前节点\n",
    "            current = temp #将保存的后一节点作为当前节点\n",
    "        return pre"
   ],
   "metadata": {
    "collapsed": false,
    "ExecuteTime": {
     "end_time": "2024-06-01T15:50:16.363186Z",
     "start_time": "2024-06-01T15:50:16.357785Z"
    }
   },
   "id": "6b751e3d622eacb9",
   "execution_count": 2
  }
 ],
 "metadata": {
  "kernelspec": {
   "display_name": "Python 3",
   "language": "python",
   "name": "python3"
  },
  "language_info": {
   "codemirror_mode": {
    "name": "ipython",
    "version": 2
   },
   "file_extension": ".py",
   "mimetype": "text/x-python",
   "name": "python",
   "nbconvert_exporter": "python",
   "pygments_lexer": "ipython2",
   "version": "2.7.6"
  }
 },
 "nbformat": 4,
 "nbformat_minor": 5
}
