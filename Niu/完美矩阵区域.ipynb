{
 "cells": [
  {
   "cell_type": "markdown",
   "source": [
    "小美拿到了一个n∗n的矩阵，其中每个元素是 0 或者 1。\n",
    "小美认为一个矩形区域是完美的，当且仅当该区域内 0 的数量恰好等于 1 的数量。\n",
    "现在，小美希望你回答有多少个i∗i的完美矩形区域。你需要回答1≤i≤n的所有答案。"
   ],
   "metadata": {
    "collapsed": false
   },
   "id": "c6da5380814fab25"
  },
  {
   "cell_type": "markdown",
   "source": [
    "输入描述：\n",
    "第一行输入一个正整数n，代表矩阵大小。\n",
    "接下来的n行，每行输入一个长度为n的 01 串，用来表示矩阵。"
   ],
   "metadata": {
    "collapsed": false
   },
   "id": "c409954497486d95"
  },
  {
   "cell_type": "markdown",
   "source": [
    "输出描述：\n",
    "输出n行，第i行输出i*i的完美矩形区域的数量。"
   ],
   "metadata": {
    "collapsed": false
   },
   "id": "1e995791db305f21"
  },
  {
   "cell_type": "markdown",
   "source": [
    "示例1\n",
    "输入例子：\n",
    "4\n",
    "1010\n",
    "0101\n",
    "1100\n",
    "0011"
   ],
   "metadata": {
    "collapsed": false
   },
   "id": "d490118affdbf64f"
  },
  {
   "cell_type": "markdown",
   "source": [
    "输出例子：\n",
    "0\n",
    "7\n",
    "0\n",
    "1\n"
   ],
   "metadata": {
    "collapsed": false
   },
   "id": "895ea79730ffe6a3"
  },
  {
   "cell_type": "code",
   "outputs": [],
   "source": [
    "# 初始化输入为二维列表\n",
    "list = []\n",
    "a = int(input())\n",
    "for i in range(a):\n",
    "    line = [int(i) for i in input()]\n",
    "    list.append(line)"
   ],
   "metadata": {
    "collapsed": false,
    "ExecuteTime": {
     "end_time": "2024-06-01T10:09:45.177503Z",
     "start_time": "2024-06-01T10:09:32.765757Z"
    }
   },
   "id": "85af09a70e6ecaf3",
   "execution_count": 2
  },
  {
   "cell_type": "code",
   "outputs": [
    {
     "name": "stdout",
     "output_type": "stream",
     "text": [
      "0\n",
      "7\n",
      "0\n",
      "1\n"
     ]
    }
   ],
   "source": [
    "for i in range(1, a+1):\n",
    "    if i % 2 != 0:\n",
    "        print(0) #找奇数正方形必不可能出现1，0相同的情况\n",
    "    else:\n",
    "        count = 0\n",
    "        for y in range(a-i+1):\n",
    "            for x in range(a-i+1):\n",
    "                l = []\n",
    "                count1, count0 = 0, 0\n",
    "                for yy in range(y, y+i):\n",
    "                    for xx in range(x, x+i):\n",
    "                        l.append(list[yy][xx])\n",
    "                        if list[yy][xx] == 1:\n",
    "                            count1 += 1\n",
    "                        else:\n",
    "                            count0 += 1\n",
    "                if count1 == count0:\n",
    "                    count += 1\n",
    "        print(count)"
   ],
   "metadata": {
    "collapsed": false,
    "ExecuteTime": {
     "end_time": "2024-06-01T10:09:45.184986Z",
     "start_time": "2024-06-01T10:09:45.178516Z"
    }
   },
   "id": "d7eb6a10a215ca0b",
   "execution_count": 3
  }
 ],
 "metadata": {
  "kernelspec": {
   "display_name": "Python 3",
   "language": "python",
   "name": "python3"
  },
  "language_info": {
   "codemirror_mode": {
    "name": "ipython",
    "version": 2
   },
   "file_extension": ".py",
   "mimetype": "text/x-python",
   "name": "python",
   "nbconvert_exporter": "python",
   "pygments_lexer": "ipython2",
   "version": "2.7.6"
  }
 },
 "nbformat": 4,
 "nbformat_minor": 5
}
