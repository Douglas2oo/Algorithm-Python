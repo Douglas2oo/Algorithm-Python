{
 "cells": [
  {
   "cell_type": "markdown",
   "source": [
    "T: 比赛次数（列表个数）；\n",
    "列表前三后三个元素为两名选手的：1.一次能搬砖的数量；2.搬一次休息的时间；3.总共要搬的数量"
   ],
   "metadata": {
    "collapsed": false
   },
   "id": "ee6534b7aeb91bab"
  },
  {
   "cell_type": "markdown",
   "source": [
    "输入样例：\n",
    "2\n",
    "1 1 5 2 2 8\n",
    "2 2 8 3 2 7"
   ],
   "metadata": {
    "collapsed": false
   },
   "id": "7ae7d1db197b62c0"
  },
  {
   "cell_type": "code",
   "outputs": [],
   "source": [
    "T = int(input()) # 比赛次数（要输入的列表个数）"
   ],
   "metadata": {
    "collapsed": false,
    "ExecuteTime": {
     "end_time": "2024-06-01T10:18:49.650670Z",
     "start_time": "2024-06-01T10:18:47.721268Z"
    }
   },
   "id": "4eaedf241cc194bd",
   "execution_count": 1
  },
  {
   "cell_type": "code",
   "outputs": [
    {
     "name": "stdout",
     "output_type": "stream",
     "text": [
      "A\n",
      "B\n"
     ]
    }
   ],
   "source": [
    "for i in range(T):\n",
    "    l = [int(x) for x in input().split()]\n",
    "    c1 = l[2] // l[0] \n",
    "    if l[2] % l[0] > 0:\n",
    "        c1 += 1 # 要搬的总次数\n",
    "    t1 = c1 * l[1] # 总耗时\n",
    "    c2 = l[5] // l[3]\n",
    "    if l[5] & l[3] > 0:\n",
    "        c2 += 1\n",
    "    t2 = c2 * l[4]\n",
    "    if t1 > t2:\n",
    "        print('B')\n",
    "    elif t1 < t2:\n",
    "        print('A')\n",
    "    else:\n",
    "        print('A&B')"
   ],
   "metadata": {
    "collapsed": false,
    "ExecuteTime": {
     "end_time": "2024-06-01T10:19:00.666153Z",
     "start_time": "2024-06-01T10:18:49.651691Z"
    }
   },
   "id": "d9c1235ec4aa04ed",
   "execution_count": 2
  }
 ],
 "metadata": {
  "kernelspec": {
   "display_name": "Python 3",
   "language": "python",
   "name": "python3"
  },
  "language_info": {
   "codemirror_mode": {
    "name": "ipython",
    "version": 2
   },
   "file_extension": ".py",
   "mimetype": "text/x-python",
   "name": "python",
   "nbconvert_exporter": "python",
   "pygments_lexer": "ipython2",
   "version": "2.7.6"
  }
 },
 "nbformat": 4,
 "nbformat_minor": 5
}
